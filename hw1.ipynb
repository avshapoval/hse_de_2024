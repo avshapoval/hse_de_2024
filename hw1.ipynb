{
 "cells": [
  {
   "cell_type": "code",
   "execution_count": 16,
   "metadata": {},
   "outputs": [
    {
     "name": "stdout",
     "output_type": "stream",
     "text": [
      "Обычный год\n"
     ]
    }
   ],
   "source": [
    "#Task 1\n",
    "year = input()\n",
    "correct_answer_template = \"{year_type} год\"\n",
    "\n",
    "if len(year) != 4  or (not year.isdecimal()):\n",
    "    raise ValueError(\"Введеное значение содержит не 4 цифры или введено не число\")\n",
    "\n",
    "year_type = \"Високосный\" if (int(year) % 4 == 0 and int(year) % 100 != 0) or (int(year) % 400 == 0)  else \"Обычный\"\n",
    "\n",
    "print(correct_answer_template.format(year_type = year_type))"
   ]
  },
  {
   "cell_type": "code",
   "execution_count": null,
   "metadata": {},
   "outputs": [],
   "source": [
    "#Task 2\n",
    "number = input()\n",
    "correct_answer_template = \"{ticket_type} билет\"\n",
    "\n",
    "if len(number) != 6  or (not number.isdecimal()):\n",
    "    raise ValueError(\"Введеное значение содержит не 6 цифр или введено не число\")\n",
    "\n",
    "sum_first = sum([int(i) for i in number[:3]])\n",
    "sum_last = sum([int(i) for i in number[3:]])\n",
    "\n",
    "ticket_type = \"Счастливый\" if sum_first == sum_last  else \"Несчастливый\"\n",
    "\n",
    "print(correct_answer_template.format(ticket_type = ticket_type))"
   ]
  }
 ],
 "metadata": {
  "kernelspec": {
   "display_name": "Python 3",
   "language": "python",
   "name": "python3"
  },
  "language_info": {
   "codemirror_mode": {
    "name": "ipython",
    "version": 3
   },
   "file_extension": ".py",
   "mimetype": "text/x-python",
   "name": "python",
   "nbconvert_exporter": "python",
   "pygments_lexer": "ipython3",
   "version": "3.10.4"
  }
 },
 "nbformat": 4,
 "nbformat_minor": 2
}
