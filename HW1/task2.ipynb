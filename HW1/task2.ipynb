{
 "cells": [
  {
   "cell_type": "code",
   "execution_count": 4,
   "metadata": {},
   "outputs": [
    {
     "name": "stdout",
     "output_type": "stream",
     "text": [
      "Счастливый билет\n"
     ]
    }
   ],
   "source": [
    "#Task 2\n",
    "number = input()\n",
    "correct_answer_template = \"{ticket_type} билет\"\n",
    "\n",
    "if len(number) != 6  or (not number.isdecimal()):\n",
    "    raise ValueError(\"Введеное значение содержит не 6 цифр или введено не число\")\n",
    "\n",
    "sum_first = sum([int(i) for i in number[:3]])\n",
    "sum_last = sum([int(i) for i in number[3:]])\n",
    "\n",
    "ticket_type = \"Счастливый\" if sum_first == sum_last  else \"Несчастливый\"\n",
    "\n",
    "print(correct_answer_template.format(ticket_type = ticket_type))"
   ]
  }
 ],
 "metadata": {
  "kernelspec": {
   "display_name": "Python 3",
   "language": "python",
   "name": "python3"
  },
  "language_info": {
   "codemirror_mode": {
    "name": "ipython",
    "version": 3
   },
   "file_extension": ".py",
   "mimetype": "text/x-python",
   "name": "python",
   "nbconvert_exporter": "python",
   "pygments_lexer": "ipython3",
   "version": "3.10.4"
  }
 },
 "nbformat": 4,
 "nbformat_minor": 2
}
