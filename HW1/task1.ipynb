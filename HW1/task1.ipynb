{
 "cells": [
  {
   "cell_type": "code",
   "execution_count": null,
   "metadata": {},
   "outputs": [],
   "source": [
    "#Task 1\n",
    "year = input()\n",
    "correct_answer_template = \"{year_type} год\"\n",
    "\n",
    "if len(year) != 4  or (not year.isdecimal()):\n",
    "    raise ValueError(\"Введеное значение содержит не 4 цифры или введено не число\")\n",
    "\n",
    "year_type = \"Високосный\" if (int(year) % 4 == 0 and int(year) % 100 != 0) or (int(year) % 400 == 0)  else \"Обычный\"\n",
    "\n",
    "print(correct_answer_template.format(year_type = year_type))"
   ]
  }
 ],
 "metadata": {
  "language_info": {
   "name": "python"
  }
 },
 "nbformat": 4,
 "nbformat_minor": 2
}
