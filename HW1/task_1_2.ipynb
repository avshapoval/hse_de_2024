{
 "cells": [
  {
   "cell_type": "code",
   "execution_count": 1,
   "metadata": {},
   "outputs": [],
   "source": [
    "import json, csv\n",
    "\n",
    "from typing import Dict, List, Tuple\n",
    "from pathlib import Path\n",
    "from itertools import islice"
   ]
  },
  {
   "cell_type": "code",
   "execution_count": 2,
   "metadata": {},
   "outputs": [],
   "source": [
    "# Task 1 & Task 2\n",
    "\n",
    "# По умолчанию, файл с исходниками лежит в той же папке, что и код, и называется purchase_log.txt / visit_log.csv\n",
    "_DEFAULT_TEMPLATE_PATH = Path(globals()['_dh'][0]).resolve()\n",
    "_DEFAULT_SUFFIX_PATHES = {\n",
    "    '.txt': _DEFAULT_TEMPLATE_PATH / 'purchase_log.txt',\n",
    "    '.csv': _DEFAULT_TEMPLATE_PATH / 'visit_log.csv'\n",
    "}\n",
    "\n",
    "\n",
    "def check_extension(suffix_suggested: str) -> None:\n",
    "    \"\"\"Проверка корректности расширения\"\"\"\n",
    "\n",
    "    # Если расширение не .txt и не .csv - выкидываем ошибку\n",
    "    if suffix_suggested not in _DEFAULT_SUFFIX_PATHES.keys():\n",
    "        raise ValueError(f\"Недопустимый тип файла {suffix_suggested}. Допускаются только {list(_DEFAULT_SUFFIX_PATHES.keys())}'\")\n",
    "\n",
    "\n",
    "def get_source_file_path(source_file_path_suggested: str, suffix_suggested: str) -> Path:\n",
    "    \"\"\"Собираем путь к файлу с исходниками и делаем минимальные проверки\"\"\"\n",
    "    \n",
    "    check_extension(suffix_suggested)\n",
    "        \n",
    "    source_file_path = Path(source_file_path_suggested or _DEFAULT_SUFFIX_PATHES[suffix_suggested]).resolve()\n",
    "\n",
    "    # Если файла нет - выкидываем ошибку\n",
    "    if not source_file_path.is_file():\n",
    "        raise FileNotFoundError(f\"Файл {source_file_path} не существует\")\n",
    "    \n",
    "    return source_file_path\n",
    "\n",
    "\n",
    "def process_purchases_data(source_file_path: str) -> Dict:\n",
    "    \"\"\"Собираем словарь из исходных данных в .txt\"\"\"\n",
    "\n",
    "    with open(source_file_path, mode='r', encoding='utf8') as f:\n",
    "        purchases = {}\n",
    "        headers = f.readline()\n",
    "        for line in f:\n",
    "            text_line = line.rstrip('\\n')\n",
    "\n",
    "            if not text_line:\n",
    "                continue\n",
    "\n",
    "            dict_line = json.loads(text_line)\n",
    "\n",
    "            # Здесь согласно условию задания (значение - строка) предполагаем, что user_id уникальный, иначе столкнемся с потерями данных из-за перезаписи\n",
    "            purchases[dict_line['user_id']] = dict_line['category']\n",
    "    \n",
    "    return purchases\n",
    "\n",
    "\n",
    "def take(dict_to_iter: Dict, n: int) -> List[Tuple]:\n",
    "    \"\"\"Берем первые(если Python >= 3.7) n элементов из итерируемого объекта\"\"\"\n",
    "\n",
    "    return list(islice(dict_to_iter, n))\n",
    "\n",
    "\n",
    "def pretty_print_purchases(purchases: Dict, num_lines: int = 2) -> None:\n",
    "    \"\"\"Печатаем словарь в заданном формате\"\"\"\n",
    "\n",
    "    elems = take(purchases.items(), num_lines)\n",
    "    \n",
    "    for user_category in elems:\n",
    "        print(f\"{user_category[0]} '{user_category[1]}'\")"
   ]
  },
  {
   "cell_type": "code",
   "execution_count": 3,
   "metadata": {},
   "outputs": [
    {
     "name": "stdout",
     "output_type": "stream",
     "text": [
      "1840e0b9d4 'Продукты'\n",
      "4e4f90fcfb 'Электроника'\n"
     ]
    }
   ],
   "source": [
    "# Task 1\n",
    "\n",
    "purchases_file_path = input(\"Введите путь к файлу с исходными данными. Пустая строка, если нужно использовать дефолтный: \")\n",
    "\n",
    "visit_log_file_path_actual = get_source_file_path(purchases_file_path, '.txt')\n",
    "purchases_dict = process_purchases_data(visit_log_file_path_actual)\n",
    "pretty_print_purchases(purchases_dict, 2)"
   ]
  },
  {
   "cell_type": "code",
   "execution_count": 4,
   "metadata": {},
   "outputs": [],
   "source": [
    "# Task 2\n",
    "\n",
    "def create_funnel_file(visit_log_file_path: Path, funnel_file_path: Path, purchases: Dict) -> None:\n",
    "    \"\"\"Процессим visit_log.csv и не отходя пишем в funnel.csv\"\"\"\n",
    "\n",
    "    with open(visit_log_file_path, 'r', encoding='utf8') as visit_log_f, open(funnel_file_path, 'w', encoding='utf8', newline='') as target_file_f:\n",
    "        visit_log_csv_reader = csv.reader(visit_log_f, delimiter=',')\n",
    "        funnel_file_csv_writer = csv.writer(target_file_f, delimiter=',')\n",
    "\n",
    "        # Скипаем заголовки при чтении\n",
    "        next(visit_log_csv_reader)\n",
    "\n",
    "        # Пишем заголовки при записи\n",
    "        headers_to_write = ['user_id', 'source', 'category']\n",
    "        funnel_file_csv_writer.writerow(headers_to_write)\n",
    "\n",
    "        for visit_log_row in visit_log_csv_reader:\n",
    "            # Если user_id есть в словарике покупок, записываем в target_file\n",
    "            if visit_log_row[0].rstrip() and visit_log_row[0] in purchases:\n",
    "                funnel_file_csv_writer.writerow([visit_log_row[0], visit_log_row[1], purchases[visit_log_row[0]]]) \n",
    "\n",
    "\n",
    "def pretty_print_funnel(funnel_file_path: Path, num_lines: int = 3) -> None:\n",
    "    \"\"\"Выводим первые n строк получившегося файла\"\"\"\n",
    "\n",
    "    with open(funnel_file_path, 'r', encoding='utf8') as target_file_f:\n",
    "        # Создаем ридер\n",
    "        target_file_csv_reader = csv.reader(target_file_f, delimiter=',')\n",
    "\n",
    "        # Пишем следующую строчку\n",
    "        [print(','.join(next(target_file_csv_reader))) for i in range(num_lines)]\n",
    "    "
   ]
  },
  {
   "cell_type": "code",
   "execution_count": 5,
   "metadata": {},
   "outputs": [
    {
     "name": "stdout",
     "output_type": "stream",
     "text": [
      "user_id,source,category\n",
      "1840e0b9d4,other,Продукты\n",
      "4e4f90fcfb,context,Электроника\n"
     ]
    }
   ],
   "source": [
    "# Task 2\n",
    "\n",
    "visit_log_path = input(\"Введите путь к файлу с исходными данными. Пустая строка, если нужно использовать дефолтный: \")\n",
    "visit_log_file_path_actual = get_source_file_path(purchases_file_path, '.csv')\n",
    "funnel_file_path = _DEFAULT_TEMPLATE_PATH / 'funnel.csv'\n",
    "\n",
    "create_funnel_file(visit_log_file_path_actual, funnel_file_path, purchases_dict)\n",
    "pretty_print_funnel(funnel_file_path, 3)"
   ]
  }
 ],
 "metadata": {
  "kernelspec": {
   "display_name": "Python 3",
   "language": "python",
   "name": "python3"
  },
  "language_info": {
   "codemirror_mode": {
    "name": "ipython",
    "version": 3
   },
   "file_extension": ".py",
   "mimetype": "text/x-python",
   "name": "python",
   "nbconvert_exporter": "python",
   "pygments_lexer": "ipython3",
   "version": "3.10.4"
  }
 },
 "nbformat": 4,
 "nbformat_minor": 2
}
