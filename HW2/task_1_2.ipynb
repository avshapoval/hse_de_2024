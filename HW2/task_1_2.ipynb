{
 "cells": [
  {
   "cell_type": "code",
   "execution_count": 5,
   "metadata": {},
   "outputs": [
    {
     "name": "stdout",
     "output_type": "stream",
     "text": [
      "The Moscow Times: 2002-10-02 00:00:00\n",
      "The Guardian: 2013-10-11 00:00:00\n",
      "Daily News: 1977-08-18 00:00:00\n"
     ]
    }
   ],
   "source": [
    "# Task 1\n",
    "import datetime\n",
    "\n",
    "papers_dates = [\n",
    "    \"The Moscow Times - Wednesday, October 2, 2002\",\n",
    "    \"The Guardian - Friday, 11.10.13\",\n",
    "    \"Daily News - Thursday, 18 August 1977\"\n",
    "]\n",
    "\n",
    "papers_templates = {\n",
    "    \"The Moscow Times\": \"%A, %B %d, %Y\",\n",
    "    \"The Guardian\": \"%A, %d.%m.%y\",\n",
    "    \"Daily News\": \"%A, %d %B %Y\"\n",
    "}\n",
    "\n",
    "for npd in papers_dates:\n",
    "     newspaper, date_str = npd.split(' - ')\n",
    "     print(f'{newspaper}: {datetime.datetime.strptime(date_str, papers_templates[newspaper])}')"
   ]
  },
  {
   "cell_type": "code",
   "execution_count": 21,
   "metadata": {},
   "outputs": [
    {
     "name": "stdout",
     "output_type": "stream",
     "text": [
      "['2022-01-01', '2022-01-02', '2022-01-03', '2022-01-04', '2022-01-05', '2022-01-06', '2022-01-07', '2022-01-08', '2022-01-09', '2022-01-10', '2022-01-11', '2022-01-12', '2022-01-13', '2022-01-14', '2022-01-15', '2022-01-16', '2022-01-17', '2022-01-18', '2022-01-19', '2022-01-20', '2022-01-21', '2022-01-22', '2022-01-23', '2022-01-24', '2022-01-25']\n"
     ]
    }
   ],
   "source": [
    "# Task 2\n",
    "from typing import Tuple, List\n",
    "\n",
    "\n",
    "def parse_date(date_input: str, date_template: str = '%Y-%m-%d') -> Tuple[int, datetime.datetime | None]:\n",
    "    try:\n",
    "        parsed_date = datetime.datetime.strptime(date_input, date_template)\n",
    "    except ValueError:\n",
    "        return (1, None)\n",
    "    else:\n",
    "        return(0, parsed_date)\n",
    "\n",
    "\n",
    "def date_range(start_date_suggested: str, end_date_suggested: str) -> List[datetime.datetime]:\n",
    "    start_code, start_result = parse_date(start_date_suggested)\n",
    "    end_code, end_result = parse_date(end_date_suggested)\n",
    "\n",
    "    if start_code or end_code or start_result > end_result:\n",
    "        return []\n",
    "    \n",
    "    return reversed([end_result - datetime.timedelta(days=x) for x in range((end_result - start_result).days + 1)])\n",
    "\n",
    "\n",
    "start_date_suggested = input()\n",
    "end_date_suggested = input()\n",
    "print([x.date().isoformat() for x in date_range(start_date_suggested, end_date_suggested)])\n"
   ]
  }
 ],
 "metadata": {
  "kernelspec": {
   "display_name": "Python 3",
   "language": "python",
   "name": "python3"
  },
  "language_info": {
   "codemirror_mode": {
    "name": "ipython",
    "version": 3
   },
   "file_extension": ".py",
   "mimetype": "text/x-python",
   "name": "python",
   "nbconvert_exporter": "python",
   "pygments_lexer": "ipython3",
   "version": "3.10.4"
  }
 },
 "nbformat": 4,
 "nbformat_minor": 2
}
