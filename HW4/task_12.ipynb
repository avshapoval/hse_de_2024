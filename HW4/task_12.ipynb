{
 "cells": [
  {
   "cell_type": "code",
   "execution_count": 6,
   "metadata": {},
   "outputs": [
    {
     "name": "stdout",
     "output_type": "stream",
     "text": [
      "Номер А123ВС валиден. Регион: 45\n",
      "Номер А123ВС валиден. Регион: 456\n",
      "Номер не валиден\n",
      "Номер А222BС валиден. Регион: 96\n",
      "Номер не валиден\n"
     ]
    }
   ],
   "source": [
    "# Task 1\n",
    "import re\n",
    "\n",
    "def is_valid_license_plate(plate):\n",
    "    pattern = r'(^[АВЕКМНОРСТУХABEKMHOPCTYX]{1}\\d{3}[АВЕКМНОРСТУХABEKMHOPCTYX]{2})(\\d{2,3})$'\n",
    "\n",
    "    match = re.match(pattern, plate)\n",
    "    \n",
    "    if not bool(match):\n",
    "        return 'Номер не валиден'\n",
    "    \n",
    "    number = match.group(1)\n",
    "    region = match.group(2)\n",
    "    return f'Номер {number} валиден. Регион: {region}'\n",
    "\n",
    "# Примеры использования:\n",
    "print(is_valid_license_plate(\"А123ВС45\"))  # True\n",
    "print(is_valid_license_plate(\"А123ВС456\"))  # True\n",
    "print(is_valid_license_plate(\"А123ВС4567\"))   # False\n",
    "print(is_valid_license_plate(\"А222BС96\"))  # True\n",
    "print(is_valid_license_plate(\"АБ22ВВ193\"))  # False"
   ]
  },
  {
   "cell_type": "code",
   "execution_count": 9,
   "metadata": {},
   "outputs": [
    {
     "name": "stdout",
     "output_type": "stream",
     "text": [
      "Напишите функцию, которая будет удалять все последовательные повторы слов из заданной строки при помощи регулярных выражений\n"
     ]
    }
   ],
   "source": [
    "# Task 2\n",
    "import re\n",
    "\n",
    "def replace(match):\n",
    "    return match.group(1)\n",
    "\n",
    "def remove_consecutive_duplicates(text):\n",
    "    \n",
    "    pattern = r'\\b(\\w+)(\\s+\\1\\b)+'\n",
    "    result = re.sub(pattern, replace, text, flags=re.IGNORECASE)\n",
    "    \n",
    "    return result\n",
    "\n",
    "# Пример использования\n",
    "some_string = 'Напишите функцию функцию, которая будет будет будет будет удалять все все все все последовательные повторы слов из из из из заданной строки строки при помощи регулярных выражений'\n",
    "result = remove_consecutive_duplicates(some_string)\n",
    "print(result)"
   ]
  }
 ],
 "metadata": {
  "kernelspec": {
   "display_name": "Python 3",
   "language": "python",
   "name": "python3"
  },
  "language_info": {
   "codemirror_mode": {
    "name": "ipython",
    "version": 3
   },
   "file_extension": ".py",
   "mimetype": "text/x-python",
   "name": "python",
   "nbconvert_exporter": "python",
   "pygments_lexer": "ipython3",
   "version": "3.10.4"
  }
 },
 "nbformat": 4,
 "nbformat_minor": 2
}
